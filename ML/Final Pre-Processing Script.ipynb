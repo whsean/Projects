{
 "cells": [
  {
   "cell_type": "markdown",
   "id": "6471bd44",
   "metadata": {},
   "source": [
    "# Pre-Processing Script"
   ]
  },
  {
   "cell_type": "code",
   "execution_count": 3,
   "id": "1c1bc019",
   "metadata": {},
   "outputs": [],
   "source": [
    "import pandas as pd\n",
    "import os\n",
    "os.chdir(\"/Users/arlinashen/Downloads\")\n",
    "def parsing(df):\n",
    "    columns = [\"company_profile\",\"description\",\"requirements\",\"benefits\"]\n",
    "    one_hot_encoding_columns = ['employment_type', \"required_education\", \"required_experience\",\"function.\", \"industry\"]\n",
    "    length = []\n",
    "    for column in columns:\n",
    "        df[(str(column) + \"_length\")] = df[column].apply(lambda x: len(x) if x == x else 0)\n",
    "    df = pd.get_dummies(df, columns = one_hot_encoding_columns)\n",
    "    return df.iloc[:, 9:]\n",
    "\n",
    "jobs = pd.read_csv(\"job_training_data.csv\")\n",
    "jobs = parsing(jobs)"
   ]
  },
  {
   "cell_type": "code",
   "execution_count": null,
   "id": "c6acdbf6",
   "metadata": {},
   "outputs": [],
   "source": []
  }
 ],
 "metadata": {
  "kernelspec": {
   "display_name": "Python 3",
   "language": "python",
   "name": "python3"
  },
  "language_info": {
   "codemirror_mode": {
    "name": "ipython",
    "version": 3
   },
   "file_extension": ".py",
   "mimetype": "text/x-python",
   "name": "python",
   "nbconvert_exporter": "python",
   "pygments_lexer": "ipython3",
   "version": "3.8.8"
  }
 },
 "nbformat": 4,
 "nbformat_minor": 5
}
